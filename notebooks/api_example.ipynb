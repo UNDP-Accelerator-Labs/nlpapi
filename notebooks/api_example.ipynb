{
 "cells": [
  {
   "cell_type": "code",
   "execution_count": 1,
   "id": "de6c6ebc-21a8-4fbc-bce1-bd5b7d69de31",
   "metadata": {},
   "outputs": [],
   "source": [
    "import os\n",
    "import requests"
   ]
  },
  {
   "cell_type": "code",
   "execution_count": 2,
   "id": "f671b64a-300d-4985-b76a-28d0cb611673",
   "metadata": {},
   "outputs": [],
   "source": [
    "%load_ext dotenv\n",
    "%dotenv"
   ]
  },
  {
   "cell_type": "code",
   "execution_count": 3,
   "id": "14df430c-b8c9-484e-8cff-e2ad56ca190f",
   "metadata": {},
   "outputs": [],
   "source": [
    "NLPAPI_TOKEN = os.getenv(\"NLPAPI_TOKEN\")"
   ]
  },
  {
   "cell_type": "code",
   "execution_count": 4,
   "id": "57307fb5-fbb7-48b9-9852-dbf1faff5614",
   "metadata": {},
   "outputs": [],
   "source": [
    "# LANGUAGE API: https://nlpapi.azurewebsites.net/api/language\n",
    "# {\n",
    "#     \"token\": str (the API token from the platform), \n",
    "#     \"input\": str (the text to process),\n",
    "# }"
   ]
  },
  {
   "cell_type": "code",
   "execution_count": 5,
   "id": "431b7305-d016-4751-8344-82f3a5fee0ba",
   "metadata": {},
   "outputs": [
    {
     "data": {
      "text/plain": [
       "True"
      ]
     },
     "execution_count": 5,
     "metadata": {},
     "output_type": "execute_result"
    }
   ],
   "source": [
    "rlan = requests.post(\"https://nlpapi.azurewebsites.net/api/language\", {\n",
    "    \"token\": NLPAPI_TOKEN,\n",
    "    \"input\": \"Ceci n'est pas une API\",\n",
    "})\n",
    "rlan.ok"
   ]
  },
  {
   "cell_type": "code",
   "execution_count": 6,
   "id": "dbff81be-2f11-4039-8df1-0731f9e6175a",
   "metadata": {},
   "outputs": [
    {
     "data": {
      "text/plain": [
       "{'languages': [{'count': 10, 'lang': 'fr', 'score': 0.8571392874545818}]}"
      ]
     },
     "execution_count": 6,
     "metadata": {},
     "output_type": "execute_result"
    }
   ],
   "source": [
    "rlan.json()"
   ]
  },
  {
   "cell_type": "code",
   "execution_count": 7,
   "id": "b5b2bde1-8db8-4590-a352-d0a67b5ef69b",
   "metadata": {},
   "outputs": [],
   "source": [
    "# LOCATION API: https://nlpapi.azurewebsites.net/api/location\n",
    "# {\n",
    "#     \"token\": str (the API token from the platform), \n",
    "#     \"input\": str (the text to process),\n",
    "#     \"return_input\": bool (whether to include the original input in the response (default: false)),\n",
    "#     \"return_context\": bool (whether to provide the text context of the hits (default: true)),\n",
    "#     \"strategy\": Strategy (\"top\" for always taking the first response from opencage. \"frequency\" to heuristically determine the best response (default: \"frequency\")),\n",
    "#     \"language\": Language (\"en\"; only one language for now (default: \"en\")),\n",
    "# }"
   ]
  },
  {
   "cell_type": "code",
   "execution_count": 8,
   "id": "e27c6c8d-67a8-4a2f-a7ca-3c2bf6b6740c",
   "metadata": {},
   "outputs": [
    {
     "data": {
      "text/plain": [
       "False"
      ]
     },
     "execution_count": 8,
     "metadata": {},
     "output_type": "execute_result"
    }
   ],
   "source": [
    "rloc = requests.post(\"https://nlpapi.azurewebsites.net/api/location\", {\n",
    "    \"token\": NLPAPI_TOKEN,\n",
    "    \"input\": \"\"\"\n",
    "Tropical Storm Hilary swirls northward packing deadly rainfall along Mexico’s Baja coast\n",
    "========================================================================================\n",
    "\n",
    "ENSENADA, Mexico (AP) — Tropical Storm Hilary swirled northward Sunday just off the coast of Mexico’s Baja California\n",
    "peninsula, no longer a hurricane but still carrying so much rain that forecasters said “catastrophic and life-threatening”\n",
    "flooding is likely across a broad region of the southwestern U.S.\n",
    "\n",
    "As of 8 a.m. Pacific time, Hilary was located about 220 miles (350 kilometers) south-southeast of San Diego, the\n",
    "National Hurricane Center reported. Hilary had maximum sustained winds of 70 mph (110 kph) and was moving northwest at\n",
    "25 mph (41 kph).\n",
    "\n",
    "The Mexican cities of Ensenada and Tijuana remained directly in the tropical storm’s path, and meteorologists warned\n",
    "that despite weakening, the storm remained treacherous.\n",
    "\n",
    "One person drowned Saturday in the Mexican town of Santa Rosalia, on the peninsula’s eastern coast, when a vehicle\n",
    "was swept away in an overflowing stream. Rescue workers managed to save four other people, said Edith\n",
    "Aguilar Villavicencio, the mayor of Mulege township.\n",
    "    \"\"\",\n",
    "})\n",
    "rloc.ok"
   ]
  },
  {
   "cell_type": "code",
   "execution_count": 9,
   "id": "e57cb239-1908-4aec-9499-7b921684e7f7",
   "metadata": {},
   "outputs": [
    {
     "ename": "JSONDecodeError",
     "evalue": "Extra data: line 1 column 7 (char 6)",
     "output_type": "error",
     "traceback": [
      "\u001b[0;31m---------------------------------------------------------------------------\u001b[0m",
      "\u001b[0;31mJSONDecodeError\u001b[0m                           Traceback (most recent call last)",
      "File \u001b[0;32m/opt/miniconda3/envs/metal/lib/python3.10/site-packages/requests/models.py:971\u001b[0m, in \u001b[0;36mResponse.json\u001b[0;34m(self, **kwargs)\u001b[0m\n\u001b[1;32m    970\u001b[0m \u001b[38;5;28;01mtry\u001b[39;00m:\n\u001b[0;32m--> 971\u001b[0m     \u001b[38;5;28;01mreturn\u001b[39;00m \u001b[43mcomplexjson\u001b[49m\u001b[38;5;241;43m.\u001b[39;49m\u001b[43mloads\u001b[49m\u001b[43m(\u001b[49m\u001b[38;5;28;43mself\u001b[39;49m\u001b[38;5;241;43m.\u001b[39;49m\u001b[43mtext\u001b[49m\u001b[43m,\u001b[49m\u001b[43m \u001b[49m\u001b[38;5;241;43m*\u001b[39;49m\u001b[38;5;241;43m*\u001b[39;49m\u001b[43mkwargs\u001b[49m\u001b[43m)\u001b[49m\n\u001b[1;32m    972\u001b[0m \u001b[38;5;28;01mexcept\u001b[39;00m JSONDecodeError \u001b[38;5;28;01mas\u001b[39;00m e:\n\u001b[1;32m    973\u001b[0m     \u001b[38;5;66;03m# Catch JSON-related errors and raise as requests.JSONDecodeError\u001b[39;00m\n\u001b[1;32m    974\u001b[0m     \u001b[38;5;66;03m# This aliases json.JSONDecodeError and simplejson.JSONDecodeError\u001b[39;00m\n",
      "File \u001b[0;32m/opt/miniconda3/envs/metal/lib/python3.10/json/__init__.py:346\u001b[0m, in \u001b[0;36mloads\u001b[0;34m(s, cls, object_hook, parse_float, parse_int, parse_constant, object_pairs_hook, **kw)\u001b[0m\n\u001b[1;32m    343\u001b[0m \u001b[38;5;28;01mif\u001b[39;00m (\u001b[38;5;28mcls\u001b[39m \u001b[38;5;129;01mis\u001b[39;00m \u001b[38;5;28;01mNone\u001b[39;00m \u001b[38;5;129;01mand\u001b[39;00m object_hook \u001b[38;5;129;01mis\u001b[39;00m \u001b[38;5;28;01mNone\u001b[39;00m \u001b[38;5;129;01mand\u001b[39;00m\n\u001b[1;32m    344\u001b[0m         parse_int \u001b[38;5;129;01mis\u001b[39;00m \u001b[38;5;28;01mNone\u001b[39;00m \u001b[38;5;129;01mand\u001b[39;00m parse_float \u001b[38;5;129;01mis\u001b[39;00m \u001b[38;5;28;01mNone\u001b[39;00m \u001b[38;5;129;01mand\u001b[39;00m\n\u001b[1;32m    345\u001b[0m         parse_constant \u001b[38;5;129;01mis\u001b[39;00m \u001b[38;5;28;01mNone\u001b[39;00m \u001b[38;5;129;01mand\u001b[39;00m object_pairs_hook \u001b[38;5;129;01mis\u001b[39;00m \u001b[38;5;28;01mNone\u001b[39;00m \u001b[38;5;129;01mand\u001b[39;00m \u001b[38;5;129;01mnot\u001b[39;00m kw):\n\u001b[0;32m--> 346\u001b[0m     \u001b[38;5;28;01mreturn\u001b[39;00m \u001b[43m_default_decoder\u001b[49m\u001b[38;5;241;43m.\u001b[39;49m\u001b[43mdecode\u001b[49m\u001b[43m(\u001b[49m\u001b[43ms\u001b[49m\u001b[43m)\u001b[49m\n\u001b[1;32m    347\u001b[0m \u001b[38;5;28;01mif\u001b[39;00m \u001b[38;5;28mcls\u001b[39m \u001b[38;5;129;01mis\u001b[39;00m \u001b[38;5;28;01mNone\u001b[39;00m:\n",
      "File \u001b[0;32m/opt/miniconda3/envs/metal/lib/python3.10/json/decoder.py:340\u001b[0m, in \u001b[0;36mJSONDecoder.decode\u001b[0;34m(self, s, _w)\u001b[0m\n\u001b[1;32m    339\u001b[0m \u001b[38;5;28;01mif\u001b[39;00m end \u001b[38;5;241m!=\u001b[39m \u001b[38;5;28mlen\u001b[39m(s):\n\u001b[0;32m--> 340\u001b[0m     \u001b[38;5;28;01mraise\u001b[39;00m JSONDecodeError(\u001b[38;5;124m\"\u001b[39m\u001b[38;5;124mExtra data\u001b[39m\u001b[38;5;124m\"\u001b[39m, s, end)\n\u001b[1;32m    341\u001b[0m \u001b[38;5;28;01mreturn\u001b[39;00m obj\n",
      "\u001b[0;31mJSONDecodeError\u001b[0m: Extra data: line 1 column 7 (char 6)",
      "\nDuring handling of the above exception, another exception occurred:\n",
      "\u001b[0;31mJSONDecodeError\u001b[0m                           Traceback (most recent call last)",
      "Cell \u001b[0;32mIn[9], line 1\u001b[0m\n\u001b[0;32m----> 1\u001b[0m \u001b[43mrloc\u001b[49m\u001b[38;5;241;43m.\u001b[39;49m\u001b[43mjson\u001b[49m\u001b[43m(\u001b[49m\u001b[43m)\u001b[49m\n",
      "File \u001b[0;32m/opt/miniconda3/envs/metal/lib/python3.10/site-packages/requests/models.py:975\u001b[0m, in \u001b[0;36mResponse.json\u001b[0;34m(self, **kwargs)\u001b[0m\n\u001b[1;32m    971\u001b[0m     \u001b[38;5;28;01mreturn\u001b[39;00m complexjson\u001b[38;5;241m.\u001b[39mloads(\u001b[38;5;28mself\u001b[39m\u001b[38;5;241m.\u001b[39mtext, \u001b[38;5;241m*\u001b[39m\u001b[38;5;241m*\u001b[39mkwargs)\n\u001b[1;32m    972\u001b[0m \u001b[38;5;28;01mexcept\u001b[39;00m JSONDecodeError \u001b[38;5;28;01mas\u001b[39;00m e:\n\u001b[1;32m    973\u001b[0m     \u001b[38;5;66;03m# Catch JSON-related errors and raise as requests.JSONDecodeError\u001b[39;00m\n\u001b[1;32m    974\u001b[0m     \u001b[38;5;66;03m# This aliases json.JSONDecodeError and simplejson.JSONDecodeError\u001b[39;00m\n\u001b[0;32m--> 975\u001b[0m     \u001b[38;5;28;01mraise\u001b[39;00m RequestsJSONDecodeError(e\u001b[38;5;241m.\u001b[39mmsg, e\u001b[38;5;241m.\u001b[39mdoc, e\u001b[38;5;241m.\u001b[39mpos)\n",
      "\u001b[0;31mJSONDecodeError\u001b[0m: Extra data: line 1 column 7 (char 6)"
     ]
    }
   ],
   "source": [
    "rloc.json()"
   ]
  }
 ],
 "metadata": {
  "kernelspec": {
   "display_name": "Python 3 (ipykernel)",
   "language": "python",
   "name": "python3"
  },
  "language_info": {
   "codemirror_mode": {
    "name": "ipython",
    "version": 3
   },
   "file_extension": ".py",
   "mimetype": "text/x-python",
   "name": "python",
   "nbconvert_exporter": "python",
   "pygments_lexer": "ipython3",
   "version": "3.10.11"
  }
 },
 "nbformat": 4,
 "nbformat_minor": 5
}
