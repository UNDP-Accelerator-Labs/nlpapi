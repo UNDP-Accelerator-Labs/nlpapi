{
 "cells": [
  {
   "cell_type": "code",
   "execution_count": 1,
   "id": "de6c6ebc-21a8-4fbc-bce1-bd5b7d69de31",
   "metadata": {},
   "outputs": [],
   "source": [
    "import os\n",
    "import requests"
   ]
  },
  {
   "cell_type": "code",
   "execution_count": 2,
   "id": "f671b64a-300d-4985-b76a-28d0cb611673",
   "metadata": {},
   "outputs": [],
   "source": [
    "%load_ext dotenv\n",
    "%dotenv"
   ]
  },
  {
   "cell_type": "code",
   "execution_count": 3,
   "id": "14df430c-b8c9-484e-8cff-e2ad56ca190f",
   "metadata": {},
   "outputs": [],
   "source": [
    "NLPAPI_TOKEN = os.getenv(\"NLPAPI_TOKEN\")"
   ]
  },
  {
   "cell_type": "code",
   "execution_count": 4,
   "id": "57307fb5-fbb7-48b9-9852-dbf1faff5614",
   "metadata": {},
   "outputs": [],
   "source": [
    "# LANGUAGE API: https://nlpapi.azurewebsites.net/api/language\n",
    "# {\n",
    "#     \"token\": str (the API token from the platform), \n",
    "#     \"input\": str (the text to process),\n",
    "# }"
   ]
  },
  {
   "cell_type": "code",
   "execution_count": 5,
   "id": "431b7305-d016-4751-8344-82f3a5fee0ba",
   "metadata": {},
   "outputs": [
    {
     "data": {
      "text/plain": [
       "True"
      ]
     },
     "execution_count": 5,
     "metadata": {},
     "output_type": "execute_result"
    }
   ],
   "source": [
    "rlan = requests.post(\"https://nlpapi.azurewebsites.net/api/language\", json={\n",
    "    \"token\": NLPAPI_TOKEN,\n",
    "    \"input\": \"Ceci n'est pas une API\",\n",
    "})\n",
    "rlan.ok"
   ]
  },
  {
   "cell_type": "code",
   "execution_count": 6,
   "id": "dbff81be-2f11-4039-8df1-0731f9e6175a",
   "metadata": {},
   "outputs": [
    {
     "data": {
      "text/plain": [
       "{'languages': [{'count': 10, 'lang': 'fr', 'score': 0.8571392874545818}]}"
      ]
     },
     "execution_count": 6,
     "metadata": {},
     "output_type": "execute_result"
    }
   ],
   "source": [
    "rlan.json()"
   ]
  },
  {
   "cell_type": "code",
   "execution_count": 7,
   "id": "b5b2bde1-8db8-4590-a352-d0a67b5ef69b",
   "metadata": {},
   "outputs": [],
   "source": [
    "# LOCATION API: https://nlpapi.azurewebsites.net/api/locations\n",
    "# {\n",
    "#     \"token\": str (the API token from the platform), \n",
    "#     \"input\": str (the text to process),\n",
    "#     \"return_input\": bool (whether to include the original input in the response (default: false)),\n",
    "#     \"return_context\": bool (whether to provide the text context of the hits (default: true)),\n",
    "#     \"strategy\": Strategy (\"top\" for always taking the first response from opencage. \"frequency\" to heuristically determine the best response (default: \"frequency\")),\n",
    "#     \"language\": Language (\"en\"; only one language for now (default: \"en\")),\n",
    "# }"
   ]
  },
  {
   "cell_type": "code",
   "execution_count": 8,
   "id": "e27c6c8d-67a8-4a2f-a7ca-3c2bf6b6740c",
   "metadata": {},
   "outputs": [
    {
     "data": {
      "text/plain": [
       "True"
      ]
     },
     "execution_count": 8,
     "metadata": {},
     "output_type": "execute_result"
    }
   ],
   "source": [
    "rloc = requests.post(\"https://nlpapi.azurewebsites.net/api/locations\", json={\n",
    "    \"token\": NLPAPI_TOKEN,\n",
    "    \"input\": \"\"\"\n",
    "Tropical Storm Hilary swirls northward packing deadly rainfall along Mexico’s Baja coast\n",
    "========================================================================================\n",
    "\n",
    "ENSENADA, Mexico (AP) — Tropical Storm Hilary swirled northward Sunday just off the coast of Mexico’s Baja California\n",
    "peninsula, no longer a hurricane but still carrying so much rain that forecasters said “catastrophic and life-threatening”\n",
    "flooding is likely across a broad region of the southwestern U.S.\n",
    "\n",
    "As of 8 a.m. Pacific time, Hilary was located about 220 miles (350 kilometers) south-southeast of San Diego, the\n",
    "National Hurricane Center reported. Hilary had maximum sustained winds of 70 mph (110 kph) and was moving northwest at\n",
    "25 mph (41 kph).\n",
    "\n",
    "The Mexican cities of Ensenada and Tijuana remained directly in the tropical storm’s path, and meteorologists warned\n",
    "that despite weakening, the storm remained treacherous.\n",
    "\n",
    "One person drowned Saturday in the Mexican town of Santa Rosalia, on the peninsula’s eastern coast, when a vehicle\n",
    "was swept away in an overflowing stream. Rescue workers managed to save four other people, said Edith\n",
    "Aguilar Villavicencio, the mayor of Mulege township.\n",
    "    \"\"\",\n",
    "})\n",
    "rloc.ok"
   ]
  },
  {
   "cell_type": "code",
   "execution_count": 9,
   "id": "e57cb239-1908-4aec-9499-7b921684e7f7",
   "metadata": {},
   "outputs": [
    {
     "data": {
      "text/plain": [
       "{'country': 'MEX',\n",
       " 'entites': [{'contexts': ['…deadly rainfall along *Mexico*’s Baja coast\\n======…',\n",
       "    '…========\\n\\nENSENADA, *Mexico* (AP) — Tropical Storm…',\n",
       "    '…just off the coast of *Mexico*’s Baja California\\npeninsula…'],\n",
       "   'count': 3,\n",
       "   'location': {'confidence': 1.0,\n",
       "    'country': 'MEX',\n",
       "    'formatted': 'Mexico',\n",
       "    'lat': 23.6585116,\n",
       "    'lng': -102.0077097},\n",
       "   'query': 'Mexico',\n",
       "   'spans': [[70, 76], [190, 196], [273, 279]],\n",
       "   'status': 'cache_hit'},\n",
       "  {'contexts': ['…8 a.m. Pacific time, *Hilary* was located about 220…',\n",
       "    '…Hurricane Center reported. *Hilary* had maximum sustained…'],\n",
       "   'count': 2,\n",
       "   'location': {'confidence': 0.142857142857143,\n",
       "    'country': 'LBR',\n",
       "    'formatted': 'Hilary, District # 2, Liberia',\n",
       "    'lat': 6.4244321,\n",
       "    'lng': -9.7479131},\n",
       "   'query': 'Hilary',\n",
       "   'spans': [[515, 521], [637, 643]],\n",
       "   'status': 'cache_hit'},\n",
       "  {'contexts': ['…rainfall along Mexico’s *Baja* coast\\n=============…'],\n",
       "   'count': 1,\n",
       "   'location': {'confidence': 1.0,\n",
       "    'country': 'BRA',\n",
       "    'formatted': 'Bahia, Brazil',\n",
       "    'lat': -12.285251,\n",
       "    'lng': -41.9294776},\n",
       "   'query': 'Baja',\n",
       "   'spans': [[79, 83]],\n",
       "   'status': 'cache_hit'},\n",
       "  {'contexts': ['…==================\\n\\n*ENSENADA*, Mexico (AP) — Tropical…'],\n",
       "   'count': 1,\n",
       "   'location': {'confidence': 0.25,\n",
       "    'country': 'MEX',\n",
       "    'formatted': 'Ensenada, Municipio de Ensenada, Mexico',\n",
       "    'lat': 31.8658887,\n",
       "    'lng': -116.602983},\n",
       "   'query': 'ENSENADA',\n",
       "   'spans': [[180, 188]],\n",
       "   'status': 'cache_hit'},\n",
       "  {'contexts': ['…the coast of Mexico’s *Baja California*\\npeninsula, no longer…'],\n",
       "   'count': 1,\n",
       "   'location': {'confidence': 1.0,\n",
       "    'country': 'MEX',\n",
       "    'formatted': 'Baja California, Mexico',\n",
       "    'lat': 30.0338923,\n",
       "    'lng': -115.1425107},\n",
       "   'query': 'Baja California',\n",
       "   'spans': [[282, 297]],\n",
       "   'status': 'cache_hit'},\n",
       "  {'contexts': ['…of the southwestern *U.S.*\\n\\nAs of 8 a.m. Pacific…'],\n",
       "   'count': 1,\n",
       "   'location': {'confidence': 0.111111111111111,\n",
       "    'country': 'DEU',\n",
       "    'formatted': 'Unterer See, 71032 Böblingen, Germany',\n",
       "    'lat': 48.6840558,\n",
       "    'lng': 9.0096574},\n",
       "   'query': 'U.S.',\n",
       "   'spans': [[482, 486]],\n",
       "   'status': 'cache_hit'},\n",
       "  {'contexts': ['… south-southeast of *San Diego*, the\\nNational Hurricane…'],\n",
       "   'count': 1,\n",
       "   'location': {'confidence': 1.0,\n",
       "    'country': 'USA',\n",
       "    'formatted': 'San Diego, California, United States of America',\n",
       "    'lat': 32.7174202,\n",
       "    'lng': -117.1627728},\n",
       "   'query': 'San Diego',\n",
       "   'spans': [[586, 595]],\n",
       "   'status': 'cache_hit'},\n",
       "  {'contexts': ['…The Mexican cities of *Ensenada* and Tijuana remained…'],\n",
       "   'count': 1,\n",
       "   'location': {'confidence': 0.25,\n",
       "    'country': 'MEX',\n",
       "    'formatted': 'Ensenada, Municipio de Ensenada, Mexico',\n",
       "    'lat': 31.8658887,\n",
       "    'lng': -116.602983},\n",
       "   'query': 'Ensenada',\n",
       "   'spans': [[760, 768]],\n",
       "   'status': 'cache_hit'},\n",
       "  {'contexts': ['…cities of Ensenada and *Tijuana* remained directly in…'],\n",
       "   'count': 1,\n",
       "   'location': {'confidence': 0.333333333333333,\n",
       "    'country': 'MEX',\n",
       "    'formatted': 'Tijuana, Municipio de Tijuana, Mexico',\n",
       "    'lat': 32.5317397,\n",
       "    'lng': -117.019529},\n",
       "   'query': 'Tijuana',\n",
       "   'spans': [[773, 780]],\n",
       "   'status': 'cache_hit'},\n",
       "  {'contexts': ['…the Mexican town of *Santa Rosalia*, on the peninsula’s…'],\n",
       "   'count': 1,\n",
       "   'location': {'confidence': 0.142857142857143,\n",
       "    'country': 'MEX',\n",
       "    'formatted': 'Santa Rosalia, Matamoros, Mexico',\n",
       "    'lat': 26.6817479,\n",
       "    'lng': -105.456666},\n",
       "   'query': 'Santa Rosalia',\n",
       "   'spans': [[963, 976]],\n",
       "   'status': 'cache_hit'},\n",
       "  {'contexts': ['…Villavicencio, the mayor of *Mulege* township.\\n    '],\n",
       "   'count': 1,\n",
       "   'location': {'confidence': 0.142857142857143,\n",
       "    'country': 'MEX',\n",
       "    'formatted': '23900 Mulegé, BCS, Mexico',\n",
       "    'lat': 26.891329,\n",
       "    'lng': -111.982641},\n",
       "   'query': 'Mulege',\n",
       "   'spans': [[1165, 1171]],\n",
       "   'status': 'cache_hit'}],\n",
       " 'input': None,\n",
       " 'status': 'cache_hit'}"
      ]
     },
     "execution_count": 9,
     "metadata": {},
     "output_type": "execute_result"
    }
   ],
   "source": [
    "rloc.json()"
   ]
  },
  {
   "cell_type": "code",
   "execution_count": null,
   "id": "9ff18813-efec-4f21-b471-29dcad79bba6",
   "metadata": {},
   "outputs": [],
   "source": []
  }
 ],
 "metadata": {
  "kernelspec": {
   "display_name": "Python 3 (ipykernel)",
   "language": "python",
   "name": "python3"
  },
  "language_info": {
   "codemirror_mode": {
    "name": "ipython",
    "version": 3
   },
   "file_extension": ".py",
   "mimetype": "text/x-python",
   "name": "python",
   "nbconvert_exporter": "python",
   "pygments_lexer": "ipython3",
   "version": "3.10.11"
  }
 },
 "nbformat": 4,
 "nbformat_minor": 5
}
